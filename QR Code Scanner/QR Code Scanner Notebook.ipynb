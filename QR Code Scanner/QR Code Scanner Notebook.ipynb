{
  "nbformat": 4,
  "nbformat_minor": 5,
  "metadata": {
    "kernelspec": {
      "display_name": "Python 3",
      "language": "python",
      "name": "python3"
    },
    "language_info": {
      "codemirror_mode": {
        "name": "ipython",
        "version": 3
      },
      "file_extension": ".py",
      "mimetype": "text/x-python",
      "name": "python",
      "nbconvert_exporter": "python",
      "pygments_lexer": "ipython3",
      "version": "3.7.10"
    },
    "papermill": {
      "default_parameters": {},
      "duration": 10629.727411,
      "end_time": "2021-05-20T12:13:55.852007",
      "environment_variables": {},
      "exception": null,
      "input_path": "__notebook__.ipynb",
      "output_path": "__notebook__.ipynb",
      "parameters": {},
      "start_time": "2021-05-20T09:16:46.124596",
      "version": "2.3.3"
    },
    "widgets": {
      "application/vnd.jupyter.widget-state+json": {}
    },
    "colab": {
      "name": "yolov4-detection-sample.ipynb",
      "provenance": []
    }
  },
  "cells": [
    {
      "cell_type": "code",
      "metadata": {
        "execution": {
          "iopub.execute_input": "2021-05-20T09:16:52.798451Z",
          "iopub.status.busy": "2021-05-20T09:16:52.797968Z",
          "iopub.status.idle": "2021-05-20T09:16:53.258797Z",
          "shell.execute_reply": "2021-05-20T09:16:53.258220Z"
        },
        "papermill": {
          "duration": 0.48591,
          "end_time": "2021-05-20T09:16:53.258983",
          "exception": false,
          "start_time": "2021-05-20T09:16:52.773073",
          "status": "completed"
        },
        "tags": [],
        "id": "given-variable"
      },
      "source": [
        "import os, shutil\n",
        "shutil.copytree('/kaggle/input/pytorch-yolov4', '/kaggle/working/yolov4')\n",
        "os.chdir('/kaggle/working/yolov4')"
      ],
      "id": "given-variable",
      "execution_count": null,
      "outputs": []
    },
    {
      "cell_type": "code",
      "metadata": {
        "execution": {
          "iopub.execute_input": "2021-05-20T09:16:53.297409Z",
          "iopub.status.busy": "2021-05-20T09:16:53.296719Z",
          "iopub.status.idle": "2021-05-20T09:17:46.154916Z",
          "shell.execute_reply": "2021-05-20T09:17:46.154351Z"
        },
        "papermill": {
          "duration": 52.8796,
          "end_time": "2021-05-20T09:17:46.155055",
          "exception": false,
          "start_time": "2021-05-20T09:16:53.275455",
          "status": "completed"
        },
        "tags": [],
        "id": "based-woman",
        "outputId": "0841a2a4-1d50-4346-d0e5-eb4bc9f22b16"
      },
      "source": [
        "!pip install /kaggle/input/easydict/easydict-1.9-py2.py3-none-any.whl\n",
        "!pip install /kaggle/input/pycocotools/pycocotools-2.0-cp37-cp37m-linux_x86_64.whl"
      ],
      "id": "based-woman",
      "execution_count": null,
      "outputs": [
        {
          "output_type": "stream",
          "text": [
            "Processing /kaggle/input/easydict/easydict-1.9-py2.py3-none-any.whl\r\n",
            "Installing collected packages: easydict\r\n",
            "Successfully installed easydict-1.9\r\n",
            "Processing /kaggle/input/pycocotools/pycocotools-2.0-cp37-cp37m-linux_x86_64.whl\r\n",
            "Requirement already satisfied: cython>=0.27.3 in /opt/conda/lib/python3.7/site-packages (from pycocotools==2.0) (0.29.23)\r\n",
            "Requirement already satisfied: matplotlib>=2.1.0 in /opt/conda/lib/python3.7/site-packages (from pycocotools==2.0) (3.4.1)\r\n",
            "Requirement already satisfied: setuptools>=18.0 in /opt/conda/lib/python3.7/site-packages (from pycocotools==2.0) (49.6.0.post20210108)\r\n",
            "Requirement already satisfied: numpy>=1.16 in /opt/conda/lib/python3.7/site-packages (from matplotlib>=2.1.0->pycocotools==2.0) (1.19.5)\r\n",
            "Requirement already satisfied: pillow>=6.2.0 in /opt/conda/lib/python3.7/site-packages (from matplotlib>=2.1.0->pycocotools==2.0) (7.2.0)\r\n",
            "Requirement already satisfied: cycler>=0.10 in /opt/conda/lib/python3.7/site-packages (from matplotlib>=2.1.0->pycocotools==2.0) (0.10.0)\r\n",
            "Requirement already satisfied: kiwisolver>=1.0.1 in /opt/conda/lib/python3.7/site-packages (from matplotlib>=2.1.0->pycocotools==2.0) (1.3.1)\r\n",
            "Requirement already satisfied: pyparsing>=2.2.1 in /opt/conda/lib/python3.7/site-packages (from matplotlib>=2.1.0->pycocotools==2.0) (2.4.7)\r\n",
            "Requirement already satisfied: python-dateutil>=2.7 in /opt/conda/lib/python3.7/site-packages (from matplotlib>=2.1.0->pycocotools==2.0) (2.8.1)\r\n",
            "Requirement already satisfied: six in /opt/conda/lib/python3.7/site-packages (from cycler>=0.10->matplotlib>=2.1.0->pycocotools==2.0) (1.15.0)\r\n",
            "Installing collected packages: pycocotools\r\n",
            "Successfully installed pycocotools-2.0\r\n"
          ],
          "name": "stdout"
        }
      ]
    },
    {
      "cell_type": "markdown",
      "metadata": {
        "papermill": {
          "duration": 0.017877,
          "end_time": "2021-05-20T09:17:46.191678",
          "exception": false,
          "start_time": "2021-05-20T09:17:46.173801",
          "status": "completed"
        },
        "tags": [],
        "id": "increasing-syndicate"
      },
      "source": [
        "## Global parameters"
      ],
      "id": "increasing-syndicate"
    },
    {
      "cell_type": "code",
      "metadata": {
        "execution": {
          "iopub.execute_input": "2021-05-20T09:17:46.233258Z",
          "iopub.status.busy": "2021-05-20T09:17:46.232539Z",
          "iopub.status.idle": "2021-05-20T09:17:46.235348Z",
          "shell.execute_reply": "2021-05-20T09:17:46.234938Z"
        },
        "papermill": {
          "duration": 0.025348,
          "end_time": "2021-05-20T09:17:46.235460",
          "exception": false,
          "start_time": "2021-05-20T09:17:46.210112",
          "status": "completed"
        },
        "tags": [],
        "id": "expired-contract"
      },
      "source": [
        "RUN_TEST = False  # Use only 30 data for train\n",
        "NUM_EPOCH = 5\n",
        "DETECT_SIZE = (608,608)\n",
        "PRED_PABELS = [\"Negative for Pneumonia\",\"Typical Appearance\",\"Indeterminate Appearance\",\"Atypical Appearance\"]"
      ],
      "id": "expired-contract",
      "execution_count": null,
      "outputs": []
    },
    {
      "cell_type": "markdown",
      "metadata": {
        "papermill": {
          "duration": 0.018007,
          "end_time": "2021-05-20T09:17:46.272038",
          "exception": false,
          "start_time": "2021-05-20T09:17:46.254031",
          "status": "completed"
        },
        "tags": [],
        "id": "noticed-transfer"
      },
      "source": [
        "## Read DICM file"
      ],
      "id": "noticed-transfer"
    },
    {
      "cell_type": "code",
      "metadata": {
        "execution": {
          "iopub.execute_input": "2021-05-20T09:17:46.317536Z",
          "iopub.status.busy": "2021-05-20T09:17:46.316717Z",
          "iopub.status.idle": "2021-05-20T09:17:46.431640Z",
          "shell.execute_reply": "2021-05-20T09:17:46.431150Z"
        },
        "papermill": {
          "duration": 0.14159,
          "end_time": "2021-05-20T09:17:46.431779",
          "exception": false,
          "start_time": "2021-05-20T09:17:46.290189",
          "status": "completed"
        },
        "tags": [],
        "id": "analyzed-satin"
      },
      "source": [
        "import pydicom as dicom\n",
        "import numpy as np\n",
        "from PIL import Image\n",
        "def dcm_to_pil(filename):\n",
        "    scan = dicom.dcmread(filename)\n",
        "    pil = None\n",
        "    siz = (scan.Columns, scan.Rows)\n",
        "    \"\"\"\n",
        "     if use pydicom some file read error.\n",
        "      https://www.kaggle.com/c/siim-covid19-detection/discussion/239899\n",
        "     so use jpeg-translated dataset\n",
        "      https://www.kaggle.com/xhlulu/siim-covid19-resized-to-1024px-jpg\n",
        "    \"\"\"\n",
        "    if filename.startswith(\"/kaggle/input/siim-covid19-detection/train/\"):\n",
        "        id = filename.split(\"/\")[-1].split('.')[0]\n",
        "        if os.path.isfile(f\"/kaggle/input/siim-covid19-resized-to-1024px-jpg/train/{id}.jpg\"):\n",
        "            pil = Image.open(f\"/kaggle/input/siim-covid19-resized-to-1024px-jpg/train/{id}.jpg\")\n",
        "    elif filename.startswith(\"/kaggle/input/siim-covid19-detection/test/\"):\n",
        "        id = filename.split(\"/\")[-1].split('.')[0]\n",
        "        if os.path.isfile(f\"/kaggle/input/siim-covid19-resized-to-1024px-jpg/test/{id}.jpg\"):\n",
        "            pil = Image.open(f\"/kaggle/input/siim-covid19-resized-to-1024px-jpg/test/{id}.jpg\")\n",
        "    if pil is None:\n",
        "        pix = scan.pixel_array\n",
        "        pix = (pix - np.min(pix)) / (np.max(pix) - np.min(pix))\n",
        "        img = np.clip(np.round(pix * 0xff), 0, 0xff).astype(np.uint8)\n",
        "        pil = Image.fromarray(img)\n",
        "        siz = pil.size\n",
        "    return pil.resize(DETECT_SIZE), siz"
      ],
      "id": "analyzed-satin",
      "execution_count": null,
      "outputs": []
    },
    {
      "cell_type": "markdown",
      "metadata": {
        "papermill": {
          "duration": 0.018532,
          "end_time": "2021-05-20T09:17:46.469014",
          "exception": false,
          "start_time": "2021-05-20T09:17:46.450482",
          "status": "completed"
        },
        "tags": [],
        "id": "awful-forwarding"
      },
      "source": [
        "## Make Dataset Directory"
      ],
      "id": "awful-forwarding"
    },
    {
      "cell_type": "code",
      "metadata": {
        "execution": {
          "iopub.execute_input": "2021-05-20T09:17:46.510278Z",
          "iopub.status.busy": "2021-05-20T09:17:46.509507Z",
          "iopub.status.idle": "2021-05-20T09:17:46.512318Z",
          "shell.execute_reply": "2021-05-20T09:17:46.511842Z"
        },
        "papermill": {
          "duration": 0.024943,
          "end_time": "2021-05-20T09:17:46.512428",
          "exception": false,
          "start_time": "2021-05-20T09:17:46.487485",
          "status": "completed"
        },
        "tags": [],
        "id": "settled-cambridge"
      },
      "source": [
        "os.mkdir('/kaggle/working/yolov4/siim')"
      ],
      "id": "settled-cambridge",
      "execution_count": null,
      "outputs": []
    },
    {
      "cell_type": "code",
      "metadata": {
        "execution": {
          "iopub.execute_input": "2021-05-20T09:17:46.560949Z",
          "iopub.status.busy": "2021-05-20T09:17:46.560316Z",
          "iopub.status.idle": "2021-05-20T09:43:44.434246Z",
          "shell.execute_reply": "2021-05-20T09:43:44.434619Z"
        },
        "papermill": {
          "duration": 1557.903862,
          "end_time": "2021-05-20T09:43:44.434808",
          "exception": false,
          "start_time": "2021-05-20T09:17:46.530946",
          "status": "completed"
        },
        "tags": [],
        "id": "moderate-count",
        "outputId": "edf1aaff-b249-4c64-f672-8b93cdddea64",
        "colab": {
          "referenced_widgets": [
            "db224d8344774ab0a192a4d2ee331987"
          ]
        }
      },
      "source": [
        "import pandas as pd\n",
        "import json\n",
        "from tqdm.notebook import tqdm\n",
        "df = pd.read_csv(\"/kaggle/input/siim-covid19-detection/train_study_level.csv\")\n",
        "df_train = pd.read_csv(\"/kaggle/input/siim-covid19-detection/train_image_level.csv\")\n",
        "with open(f'/kaggle/working/yolov4/train.txt', 'w') as trainwf:\n",
        "    for idx in tqdm(range(30 if RUN_TEST else len(df))):\n",
        "        id = df.loc[idx].id.split('_')[0]\n",
        "        fl = os.listdir(f'/kaggle/input/siim-covid19-detection/train/{id}')[0]\n",
        "        fn = os.listdir(f'/kaggle/input/siim-covid19-detection/train/{id}/{fl}')[0]\n",
        "        try:\n",
        "            img, org_siz = dcm_to_pil(f'/kaggle/input/siim-covid19-detection/train/{id}/{fl}/{fn}')\n",
        "        except:\n",
        "            continue\n",
        "        label = 0\n",
        "        for i, l in enumerate(PRED_PABELS):\n",
        "            if df.loc[idx][l] == 1:\n",
        "                label = i\n",
        "                break\n",
        "        for j, box in enumerate(df_train[df_train.StudyInstanceUID==id].boxes):\n",
        "            line = [f\"{idx}_{j}.png\"]\n",
        "            if type(box) is not float:\n",
        "                boxes = json.loads(box.replace(\"\\'\",\"\\\"\"))\n",
        "                for b in boxes:\n",
        "                    x = b['x'] / org_siz[0]\n",
        "                    y = b['y'] / org_siz[1]\n",
        "                    w = b['width'] / org_siz[0]\n",
        "                    h = b['height'] / org_siz[1]\n",
        "                    x1 = int(x*DETECT_SIZE[0])\n",
        "                    x2 = x1 + int(w*DETECT_SIZE[0])\n",
        "                    y1 = int(y*DETECT_SIZE[1])\n",
        "                    y2 = y1 + int(h*DETECT_SIZE[1])\n",
        "                    line.append(f\"{x1},{y1},{x2},{y2},{label}\")\n",
        "            if len(line) > 1:\n",
        "                img = img.convert(\"RGB\")\n",
        "                img.save(f'/kaggle/working/yolov4/siim/{idx}_{j}.png')\n",
        "                trainwf.write(\" \".join(line)+\"\\n\")"
      ],
      "id": "moderate-count",
      "execution_count": null,
      "outputs": [
        {
          "output_type": "display_data",
          "data": {
            "application/vnd.jupyter.widget-view+json": {
              "model_id": "db224d8344774ab0a192a4d2ee331987",
              "version_major": 2,
              "version_minor": 0
            },
            "text/plain": [
              "  0%|          | 0/6054 [00:00<?, ?it/s]"
            ]
          },
          "metadata": {
            "tags": []
          }
        }
      ]
    },
    {
      "cell_type": "markdown",
      "metadata": {
        "papermill": {
          "duration": 0.019757,
          "end_time": "2021-05-20T09:43:44.475050",
          "exception": false,
          "start_time": "2021-05-20T09:43:44.455293",
          "status": "completed"
        },
        "tags": [],
        "id": "afraid-switch"
      },
      "source": [
        "# Training YoloV4"
      ],
      "id": "afraid-switch"
    },
    {
      "cell_type": "code",
      "metadata": {
        "execution": {
          "iopub.execute_input": "2021-05-20T09:43:44.523496Z",
          "iopub.status.busy": "2021-05-20T09:43:44.520641Z",
          "iopub.status.idle": "2021-05-20T09:43:44.528132Z",
          "shell.execute_reply": "2021-05-20T09:43:44.527675Z"
        },
        "jupyter": {
          "source_hidden": true
        },
        "papermill": {
          "duration": 0.034288,
          "end_time": "2021-05-20T09:43:44.528256",
          "exception": false,
          "start_time": "2021-05-20T09:43:44.493968",
          "status": "completed"
        },
        "tags": [],
        "id": "physical-palmer"
      },
      "source": [
        "from easydict import EasyDict\n",
        "\n",
        "_BASE_DIR = '/kaggle/working/yolov4'\n",
        "\n",
        "Cfg = EasyDict()\n",
        "\n",
        "Cfg.use_darknet_cfg = True\n",
        "Cfg.cfgfile = os.path.join(_BASE_DIR, 'cfg', 'yolov4.cfg')\n",
        "\n",
        "Cfg.batch = 4\n",
        "Cfg.subdivisions = 1\n",
        "Cfg.width = DETECT_SIZE[0]\n",
        "Cfg.height = DETECT_SIZE[1]\n",
        "Cfg.channels = 3\n",
        "Cfg.momentum = 0.949\n",
        "Cfg.decay = 0.0005\n",
        "Cfg.angle = 0\n",
        "Cfg.saturation = 1.5\n",
        "Cfg.exposure = 1.5\n",
        "Cfg.hue = .1\n",
        "\n",
        "Cfg.learning_rate = 0.00261\n",
        "Cfg.burn_in = 1000\n",
        "Cfg.max_batches = 500500\n",
        "Cfg.steps = [400000, 450000]\n",
        "Cfg.policy = Cfg.steps\n",
        "Cfg.scales = .1, .1\n",
        "\n",
        "Cfg.cutmix = 0\n",
        "Cfg.mosaic = 1\n",
        "\n",
        "Cfg.letter_box = 0\n",
        "Cfg.jitter = 0.2\n",
        "Cfg.classes = 80\n",
        "Cfg.track = 0\n",
        "Cfg.w = Cfg.width\n",
        "Cfg.h = Cfg.height\n",
        "Cfg.flip = 1\n",
        "Cfg.blur = 0\n",
        "Cfg.gaussian = 0\n",
        "Cfg.boxes = 60  # box num\n",
        "Cfg.TRAIN_EPOCHS = 1 if RUN_TEST else 30\n",
        "Cfg.train_label = 'train.txt'\n",
        "Cfg.val_label = 'train.txt'\n",
        "Cfg.TRAIN_OPTIMIZER = 'adam'\n",
        "\n",
        "if Cfg.mosaic and Cfg.cutmix:\n",
        "    Cfg.mixup = 4\n",
        "elif Cfg.cutmix:\n",
        "    Cfg.mixup = 2\n",
        "elif Cfg.mosaic:\n",
        "    Cfg.mixup = 3\n",
        "\n",
        "Cfg.checkpoints = os.path.join(_BASE_DIR, 'checkpoints')\n",
        "Cfg.TRAIN_TENSORBOARD_DIR = os.path.join(_BASE_DIR, 'log')\n",
        "\n",
        "Cfg.iou_type = 'iou'  # 'giou', 'diou', 'ciou'\n",
        "\n",
        "Cfg.keep_checkpoint_max = 10\n",
        "\n",
        "Cfg.dataset_dir = 'siim'\n",
        "Cfg.gpu = \"0\"\n",
        "Cfg.pretrained = \"/kaggle/input/yolov4-predefend-weight/yolov4.conv.137.pth\""
      ],
      "id": "physical-palmer",
      "execution_count": null,
      "outputs": []
    },
    {
      "cell_type": "code",
      "metadata": {
        "execution": {
          "iopub.execute_input": "2021-05-20T09:43:44.573578Z",
          "iopub.status.busy": "2021-05-20T09:43:44.572933Z",
          "iopub.status.idle": "2021-05-20T09:43:46.110460Z",
          "shell.execute_reply": "2021-05-20T09:43:46.109936Z"
        },
        "jupyter": {
          "source_hidden": true
        },
        "papermill": {
          "duration": 1.563406,
          "end_time": "2021-05-20T09:43:46.110582",
          "exception": false,
          "start_time": "2021-05-20T09:43:44.547176",
          "status": "completed"
        },
        "tags": [],
        "id": "directed-bruce"
      },
      "source": [
        "import time\n",
        "import logging\n",
        "import os, sys, math\n",
        "import argparse\n",
        "from collections import deque\n",
        "import datetime\n",
        "\n",
        "import cv2\n",
        "from tqdm import tqdm\n",
        "import numpy as np\n",
        "import torch\n",
        "import torch.nn as nn\n",
        "from torch.utils.data import DataLoader\n",
        "from torch import optim\n",
        "from torch.nn import functional as F\n",
        "from tensorboardX import SummaryWriter\n",
        "from easydict import EasyDict as edict\n",
        "\n",
        "from dataset import Yolo_dataset\n",
        "from models import Yolov4\n",
        "from tool.darknet2pytorch import Darknet\n",
        "\n",
        "from tool.tv_reference.utils import collate_fn as val_collate\n",
        "from tool.tv_reference.coco_utils import convert_to_coco_api\n",
        "from tool.tv_reference.coco_eval import CocoEvaluator"
      ],
      "id": "directed-bruce",
      "execution_count": null,
      "outputs": []
    },
    {
      "cell_type": "code",
      "metadata": {
        "execution": {
          "iopub.execute_input": "2021-05-20T09:43:46.156842Z",
          "iopub.status.busy": "2021-05-20T09:43:46.156243Z",
          "iopub.status.idle": "2021-05-20T09:43:46.169396Z",
          "shell.execute_reply": "2021-05-20T09:43:46.168636Z"
        },
        "jupyter": {
          "source_hidden": true
        },
        "papermill": {
          "duration": 0.037379,
          "end_time": "2021-05-20T09:43:46.169573",
          "exception": false,
          "start_time": "2021-05-20T09:43:46.132194",
          "status": "completed"
        },
        "tags": [],
        "id": "responsible-multiple"
      },
      "source": [
        "from train import bboxes_iou,Yolo_loss, collate, init_logger, _get_date_str"
      ],
      "id": "responsible-multiple",
      "execution_count": null,
      "outputs": []
    },
    {
      "cell_type": "code",
      "metadata": {
        "execution": {
          "iopub.execute_input": "2021-05-20T09:43:46.238461Z",
          "iopub.status.busy": "2021-05-20T09:43:46.236623Z",
          "iopub.status.idle": "2021-05-20T09:43:46.239213Z",
          "shell.execute_reply": "2021-05-20T09:43:46.239721Z"
        },
        "jupyter": {
          "source_hidden": true
        },
        "papermill": {
          "duration": 0.049438,
          "end_time": "2021-05-20T09:43:46.239916",
          "exception": false,
          "start_time": "2021-05-20T09:43:46.190478",
          "status": "completed"
        },
        "tags": [],
        "id": "numerous-angola"
      },
      "source": [
        "def train(model, device, config, epochs=5, batch_size=1, save_cp=True, log_step=20, img_scale=0.5):\n",
        "    train_dataset = Yolo_dataset(config.train_label, config, train=True)\n",
        "\n",
        "    n_train = len(train_dataset)\n",
        "\n",
        "    train_loader = DataLoader(train_dataset, batch_size=config.batch // config.subdivisions, shuffle=True,\n",
        "                              num_workers=4, pin_memory=True, drop_last=True, collate_fn=collate)\n",
        "\n",
        "    writer = SummaryWriter(log_dir=config.TRAIN_TENSORBOARD_DIR,\n",
        "                           filename_suffix=f'OPT_{config.TRAIN_OPTIMIZER}_LR_{config.learning_rate}_BS_{config.batch}_Sub_{config.subdivisions}_Size_{config.width}',\n",
        "                           comment=f'OPT_{config.TRAIN_OPTIMIZER}_LR_{config.learning_rate}_BS_{config.batch}_Sub_{config.subdivisions}_Size_{config.width}')\n",
        "    # writer.add_images('legend',\n",
        "    #                   torch.from_numpy(train_dataset.label2colorlegend2(cfg.DATA_CLASSES).transpose([2, 0, 1])).to(\n",
        "    #                       device).unsqueeze(0))\n",
        "    max_itr = config.TRAIN_EPOCHS * n_train\n",
        "    # global_step = cfg.TRAIN_MINEPOCH * n_train\n",
        "    global_step = 0\n",
        "    logging.info(f'''Starting training:\n",
        "        Epochs:          {epochs}\n",
        "        Batch size:      {config.batch}\n",
        "        Subdivisions:    {config.subdivisions}\n",
        "        Learning rate:   {config.learning_rate}\n",
        "        Training size:   {n_train}\n",
        "        Checkpoints:     {save_cp}\n",
        "        Device:          {device.type}\n",
        "        Images size:     {config.width}\n",
        "        Optimizer:       {config.TRAIN_OPTIMIZER}\n",
        "        Dataset classes: {config.classes}\n",
        "        Train label path:{config.train_label}\n",
        "        Pretrained:\n",
        "    ''')\n",
        "\n",
        "    # learning rate setup\n",
        "    def burnin_schedule(i):\n",
        "        if i < config.burn_in:\n",
        "            factor = pow(i / config.burn_in, 4)\n",
        "        elif i < config.steps[0]:\n",
        "            factor = 1.0\n",
        "        elif i < config.steps[1]:\n",
        "            factor = 0.1\n",
        "        else:\n",
        "            factor = 0.01\n",
        "        return factor\n",
        "\n",
        "    if config.TRAIN_OPTIMIZER.lower() == 'adam':\n",
        "        optimizer = optim.Adam(\n",
        "            model.parameters(),\n",
        "            lr=config.learning_rate / config.batch,\n",
        "            betas=(0.9, 0.999),\n",
        "            eps=1e-08,\n",
        "        )\n",
        "    elif config.TRAIN_OPTIMIZER.lower() == 'sgd':\n",
        "        optimizer = optim.SGD(\n",
        "            params=model.parameters(),\n",
        "            lr=config.learning_rate / config.batch,\n",
        "            momentum=config.momentum,\n",
        "            weight_decay=config.decay,\n",
        "        )\n",
        "    scheduler = optim.lr_scheduler.LambdaLR(optimizer, burnin_schedule)\n",
        "\n",
        "    criterion = Yolo_loss(device=device, batch=config.batch // config.subdivisions, n_classes=config.classes)\n",
        "    # scheduler = ReduceLROnPlateau(optimizer, mode='max', verbose=True, patience=6, min_lr=1e-7)\n",
        "    # scheduler = CosineAnnealingWarmRestarts(optimizer, 0.001, 1e-6, 20)\n",
        "\n",
        "    save_prefix = 'Yolov4_epoch'\n",
        "    saved_models = deque()\n",
        "    model.train()\n",
        "    for epoch in range(epochs):\n",
        "        # model.train()\n",
        "        epoch_loss = 0\n",
        "        epoch_step = 0\n",
        "\n",
        "        with tqdm(total=n_train, desc=f'Epoch {epoch + 1}/{epochs}', unit='img', ncols=50) as pbar:\n",
        "            for i, batch in enumerate(train_loader):\n",
        "                global_step += 1\n",
        "                epoch_step += 1\n",
        "                images = batch[0]\n",
        "                bboxes = batch[1]\n",
        "\n",
        "                images = images.to(device=device, dtype=torch.float32)\n",
        "                bboxes = bboxes.to(device=device)\n",
        "\n",
        "                bboxes_pred = model(images)\n",
        "                loss, loss_xy, loss_wh, loss_obj, loss_cls, loss_l2 = criterion(bboxes_pred, bboxes)\n",
        "                # loss = loss / config.subdivisions\n",
        "                loss.backward()\n",
        "\n",
        "                epoch_loss += loss.item()\n",
        "\n",
        "                if global_step % config.subdivisions == 0:\n",
        "                    optimizer.step()\n",
        "                    scheduler.step()\n",
        "                    model.zero_grad()\n",
        "\n",
        "                if global_step % (log_step * config.subdivisions) == 0:\n",
        "                    writer.add_scalar('train/Loss', loss.item(), global_step)\n",
        "                    writer.add_scalar('train/loss_xy', loss_xy.item(), global_step)\n",
        "                    writer.add_scalar('train/loss_wh', loss_wh.item(), global_step)\n",
        "                    writer.add_scalar('train/loss_obj', loss_obj.item(), global_step)\n",
        "                    writer.add_scalar('train/loss_cls', loss_cls.item(), global_step)\n",
        "                    writer.add_scalar('train/loss_l2', loss_l2.item(), global_step)\n",
        "                    writer.add_scalar('lr', scheduler.get_lr()[0] * config.batch, global_step)\n",
        "                    pbar.set_postfix(**{'loss (batch)': loss.item(), 'loss_xy': loss_xy.item(),\n",
        "                                        'loss_wh': loss_wh.item(),\n",
        "                                        'loss_obj': loss_obj.item(),\n",
        "                                        'loss_cls': loss_cls.item(),\n",
        "                                        'loss_l2': loss_l2.item(),\n",
        "                                        'lr': scheduler.get_lr()[0] * config.batch\n",
        "                                        })\n",
        "                    logging.debug('Train step_{}: loss : {},loss xy : {},loss wh : {},'\n",
        "                                  'loss obj : {}，loss cls : {},loss l2 : {},lr : {}'\n",
        "                                  .format(global_step, loss.item(), loss_xy.item(),\n",
        "                                          loss_wh.item(), loss_obj.item(),\n",
        "                                          loss_cls.item(), loss_l2.item(),\n",
        "                                          scheduler.get_lr()[0] * config.batch))\n",
        "\n",
        "                pbar.update(images.shape[0])\n",
        "\n",
        "            if save_cp:\n",
        "                try:\n",
        "                    # os.mkdir(config.checkpoints)\n",
        "                    os.makedirs(config.checkpoints, exist_ok=True)\n",
        "                    logging.info('Created checkpoint directory')\n",
        "                except OSError:\n",
        "                    pass\n",
        "                save_path = os.path.join(config.checkpoints, f'{save_prefix}{epoch + 1}.pth')\n",
        "                torch.save(model.state_dict(), save_path)\n",
        "                logging.info(f'Checkpoint {epoch + 1} saved !')\n",
        "                saved_models.append(save_path)\n",
        "                if len(saved_models) > config.keep_checkpoint_max > 0:\n",
        "                    model_to_remove = saved_models.popleft()\n",
        "                    try:\n",
        "                        os.remove(model_to_remove)\n",
        "                    except:\n",
        "                        logging.info(f'failed to remove {model_to_remove}')\n",
        "\n",
        "    writer.close()"
      ],
      "id": "numerous-angola",
      "execution_count": null,
      "outputs": []
    },
    {
      "cell_type": "code",
      "metadata": {
        "execution": {
          "iopub.execute_input": "2021-05-20T09:43:46.287311Z",
          "iopub.status.busy": "2021-05-20T09:43:46.286677Z",
          "iopub.status.idle": "2021-05-20T12:07:31.821804Z",
          "shell.execute_reply": "2021-05-20T12:07:31.822625Z"
        },
        "papermill": {
          "duration": 8625.562299,
          "end_time": "2021-05-20T12:07:31.822800",
          "exception": false,
          "start_time": "2021-05-20T09:43:46.260501",
          "status": "completed"
        },
        "tags": [],
        "id": "christian-hypothesis",
        "outputId": "ed4447ac-2877-4b0a-9d6a-7d496f145327"
      },
      "source": [
        "logging = init_logger(log_dir='log', stdout=False)\n",
        "cfg = Cfg\n",
        "os.environ[\"CUDA_VISIBLE_DEVICES\"] = cfg.gpu\n",
        "device = torch.device('cuda' if torch.cuda.is_available() else 'cpu')\n",
        "logging.info(f'Using device {device}')\n",
        "\n",
        "model = Yolov4(cfg.pretrained, n_classes=cfg.classes)\n",
        "model.to(device=device)\n",
        "\n",
        "train(model=model,\n",
        "      config=cfg,\n",
        "      epochs=NUM_EPOCH,\n",
        "      device=device, )"
      ],
      "id": "christian-hypothesis",
      "execution_count": null,
      "outputs": [
        {
          "output_type": "stream",
          "text": [
            "log file path:log/log_2021-05-20_09-43-46.txt\n"
          ],
          "name": "stdout"
        },
        {
          "output_type": "stream",
          "text": [
            "Epoch 1/5:   2%| | 76/4294 [00:34<28:06,  2.50img//opt/conda/lib/python3.7/site-packages/torch/optim/lr_scheduler.py:247: UserWarning: To get the last learning rate computed by the scheduler, please use `get_last_lr()`.\n",
            "  warnings.warn(\"To get the last learning rate computed by the scheduler, \"\n",
            "Epoch 1/5: 100%|▉| 4292/4294 [28:41<00:00,  2.49im\n",
            "Epoch 2/5: 100%|▉| 4292/4294 [28:39<00:00,  2.50im\n",
            "Epoch 3/5: 100%|▉| 4292/4294 [28:42<00:00,  2.49im\n",
            "Epoch 4/5: 100%|▉| 4292/4294 [28:43<00:00,  2.49im\n",
            "Epoch 5/5: 100%|▉| 4292/4294 [28:51<00:00,  2.48im\n"
          ],
          "name": "stderr"
        }
      ]
    },
    {
      "cell_type": "markdown",
      "metadata": {
        "papermill": {
          "duration": 1.481427,
          "end_time": "2021-05-20T12:07:34.781955",
          "exception": false,
          "start_time": "2021-05-20T12:07:33.300528",
          "status": "completed"
        },
        "tags": [],
        "id": "corresponding-girlfriend"
      },
      "source": [
        "# Prediction"
      ],
      "id": "corresponding-girlfriend"
    },
    {
      "cell_type": "code",
      "metadata": {
        "execution": {
          "iopub.execute_input": "2021-05-20T12:07:37.772697Z",
          "iopub.status.busy": "2021-05-20T12:07:37.771847Z",
          "iopub.status.idle": "2021-05-20T12:07:37.777890Z",
          "shell.execute_reply": "2021-05-20T12:07:37.778579Z"
        },
        "papermill": {
          "duration": 1.530448,
          "end_time": "2021-05-20T12:07:37.778821",
          "exception": false,
          "start_time": "2021-05-20T12:07:36.248373",
          "status": "completed"
        },
        "tags": [],
        "id": "oriental-prince"
      },
      "source": [
        "from models import Yolov4"
      ],
      "id": "oriental-prince",
      "execution_count": null,
      "outputs": []
    },
    {
      "cell_type": "code",
      "metadata": {
        "execution": {
          "iopub.execute_input": "2021-05-20T12:07:40.970375Z",
          "iopub.status.busy": "2021-05-20T12:07:40.969434Z",
          "iopub.status.idle": "2021-05-20T12:07:41.891012Z",
          "shell.execute_reply": "2021-05-20T12:07:41.891422Z"
        },
        "papermill": {
          "duration": 2.450218,
          "end_time": "2021-05-20T12:07:41.891570",
          "exception": false,
          "start_time": "2021-05-20T12:07:39.441352",
          "status": "completed"
        },
        "tags": [],
        "id": "automotive-chicken",
        "outputId": "3e631d55-2c0a-43e9-f6c0-5d3e9b2458c8"
      },
      "source": [
        "model = Yolov4(yolov4conv137weight=None, n_classes=int(cfg.classes), inference=True)\n",
        "pretrained_dict = torch.load(f\"checkpoints/Yolov4_epoch{NUM_EPOCH}.pth\", map_location=device)\n",
        "model.load_state_dict(pretrained_dict)\n",
        "model.to(device)\n",
        "model.eval()\n",
        "\"\""
      ],
      "id": "automotive-chicken",
      "execution_count": null,
      "outputs": [
        {
          "output_type": "execute_result",
          "data": {
            "text/plain": [
              "''"
            ]
          },
          "metadata": {
            "tags": []
          },
          "execution_count": 13
        }
      ]
    },
    {
      "cell_type": "code",
      "metadata": {
        "execution": {
          "iopub.execute_input": "2021-05-20T12:07:44.897239Z",
          "iopub.status.busy": "2021-05-20T12:07:44.896386Z",
          "iopub.status.idle": "2021-05-20T12:07:44.899004Z",
          "shell.execute_reply": "2021-05-20T12:07:44.898473Z"
        },
        "papermill": {
          "duration": 1.523267,
          "end_time": "2021-05-20T12:07:44.899146",
          "exception": false,
          "start_time": "2021-05-20T12:07:43.375879",
          "status": "completed"
        },
        "tags": [],
        "id": "blond-chest"
      },
      "source": [
        "from tool.torch_utils import do_detect\n",
        "from tool import utils\n",
        "import cv2"
      ],
      "id": "blond-chest",
      "execution_count": null,
      "outputs": []
    },
    {
      "cell_type": "markdown",
      "metadata": {
        "papermill": {
          "duration": 1.469996,
          "end_time": "2021-05-20T12:07:47.842120",
          "exception": false,
          "start_time": "2021-05-20T12:07:46.372124",
          "status": "completed"
        },
        "tags": [],
        "id": "annual-digit"
      },
      "source": [
        "## Threashold to Predict"
      ],
      "id": "annual-digit"
    },
    {
      "cell_type": "code",
      "metadata": {
        "execution": {
          "iopub.execute_input": "2021-05-20T12:07:51.091326Z",
          "iopub.status.busy": "2021-05-20T12:07:51.090421Z",
          "iopub.status.idle": "2021-05-20T12:07:51.092933Z",
          "shell.execute_reply": "2021-05-20T12:07:51.092525Z"
        },
        "papermill": {
          "duration": 1.49147,
          "end_time": "2021-05-20T12:07:51.093053",
          "exception": false,
          "start_time": "2021-05-20T12:07:49.601583",
          "status": "completed"
        },
        "tags": [],
        "id": "baking-cattle"
      },
      "source": [
        "conf_thresh, nms_thresh = 0.4, 0.6\n",
        "pred_name = [\"negative\", \"typical\", \"indeterminate\", \"atypical\"]"
      ],
      "id": "baking-cattle",
      "execution_count": null,
      "outputs": []
    },
    {
      "cell_type": "code",
      "metadata": {
        "execution": {
          "iopub.execute_input": "2021-05-20T12:07:54.060718Z",
          "iopub.status.busy": "2021-05-20T12:07:54.059784Z",
          "iopub.status.idle": "2021-05-20T12:07:54.062567Z",
          "shell.execute_reply": "2021-05-20T12:07:54.062154Z"
        },
        "jupyter": {
          "source_hidden": true
        },
        "papermill": {
          "duration": 1.497305,
          "end_time": "2021-05-20T12:07:54.062731",
          "exception": false,
          "start_time": "2021-05-20T12:07:52.565426",
          "status": "completed"
        },
        "tags": [],
        "id": "rolled-corps"
      },
      "source": [
        "def post_processing(img, conf_thresh, nms_thresh, output):\n",
        "\n",
        "    # anchors = [12, 16, 19, 36, 40, 28, 36, 75, 76, 55, 72, 146, 142, 110, 192, 243, 459, 401]\n",
        "    # num_anchors = 9\n",
        "    # anchor_masks = [[0, 1, 2], [3, 4, 5], [6, 7, 8]]\n",
        "    # strides = [8, 16, 32]\n",
        "    # anchor_step = len(anchors) // num_anchors\n",
        "\n",
        "    # [batch, num, 1, 4]\n",
        "    box_array = output[0]\n",
        "    # [batch, num, num_classes]\n",
        "    confs = output[1]\n",
        "\n",
        "    t1 = time.time()\n",
        "\n",
        "    if type(box_array).__name__ != 'ndarray':\n",
        "        box_array = box_array.cpu().detach().numpy()\n",
        "        confs = confs.cpu().detach().numpy()\n",
        "\n",
        "    num_classes = confs.shape[2]\n",
        "\n",
        "    # [batch, num, 4]\n",
        "    box_array = box_array[:, :, 0]\n",
        "\n",
        "    # [batch, num, num_classes] --> [batch, num]\n",
        "    max_conf = np.max(confs, axis=2)\n",
        "    max_id = np.argmax(confs, axis=2)\n",
        "\n",
        "    t2 = time.time()\n",
        "\n",
        "    bboxes_batch = []\n",
        "    for i in range(box_array.shape[0]):\n",
        "       \n",
        "        argwhere = max_conf[i] > conf_thresh\n",
        "        l_box_array = box_array[i, argwhere, :]\n",
        "        l_max_conf = max_conf[i, argwhere]\n",
        "        l_max_id = max_id[i, argwhere]\n",
        "\n",
        "        bboxes = []\n",
        "        # nms for each class\n",
        "        for j in range(num_classes):\n",
        "\n",
        "            cls_argwhere = l_max_id == j\n",
        "            ll_box_array = l_box_array[cls_argwhere, :]\n",
        "            ll_max_conf = l_max_conf[cls_argwhere]\n",
        "            ll_max_id = l_max_id[cls_argwhere]\n",
        "\n",
        "            keep = utils.nms_cpu(ll_box_array, ll_max_conf, nms_thresh)\n",
        "            \n",
        "            if (keep.size > 0):\n",
        "                ll_box_array = ll_box_array[keep, :]\n",
        "                ll_max_conf = ll_max_conf[keep]\n",
        "                ll_max_id = ll_max_id[keep]\n",
        "\n",
        "                for k in range(ll_box_array.shape[0]):\n",
        "                    bboxes.append([ll_box_array[k, 0], ll_box_array[k, 1], ll_box_array[k, 2], ll_box_array[k, 3], ll_max_conf[k], ll_max_conf[k], ll_max_id[k]])\n",
        "        \n",
        "        bboxes_batch.append(bboxes)\n",
        "\n",
        "    t3 = time.time()\n",
        "\n",
        "    return bboxes_batch"
      ],
      "id": "rolled-corps",
      "execution_count": null,
      "outputs": []
    },
    {
      "cell_type": "markdown",
      "metadata": {
        "papermill": {
          "duration": 1.822173,
          "end_time": "2021-05-20T12:07:57.374232",
          "exception": false,
          "start_time": "2021-05-20T12:07:55.552059",
          "status": "completed"
        },
        "tags": [],
        "id": "loose-memory"
      },
      "source": [
        "# Make Submission"
      ],
      "id": "loose-memory"
    },
    {
      "cell_type": "code",
      "metadata": {
        "execution": {
          "iopub.execute_input": "2021-05-20T12:08:00.723971Z",
          "iopub.status.busy": "2021-05-20T12:08:00.723124Z",
          "iopub.status.idle": "2021-05-20T12:08:05.204800Z",
          "shell.execute_reply": "2021-05-20T12:08:05.204310Z"
        },
        "papermill": {
          "duration": 6.245032,
          "end_time": "2021-05-20T12:08:05.204971",
          "exception": false,
          "start_time": "2021-05-20T12:07:58.959939",
          "status": "completed"
        },
        "tags": [],
        "id": "motivated-norfolk"
      },
      "source": [
        "# make all id\n",
        "study_id = []\n",
        "image_id = []\n",
        "study_id_file = []\n",
        "image_id_file = []\n",
        "for id in os.listdir(f'/kaggle/input/siim-covid19-detection/test'):\n",
        "    study_id.append(id)\n",
        "    sfile = None\n",
        "    fl = os.listdir(f'/kaggle/input/siim-covid19-detection/test/{id}')\n",
        "    for f in fl:\n",
        "        fn = os.listdir(f'/kaggle/input/siim-covid19-detection/test/{id}/{f}')\n",
        "        for d in fn:\n",
        "            image_id.append(d.split('.')[0])\n",
        "            image_id_file.append(f'/kaggle/input/siim-covid19-detection/test/{id}/{f}/{d}')\n",
        "            if sfile is None:\n",
        "                sfile = f'/kaggle/input/siim-covid19-detection/test/{id}/{f}/{d}'\n",
        "    study_id_file.append(sfile)\n",
        "    \n",
        "pp = []\n",
        "for sid, sfn in zip(study_id, study_id_file):\n",
        "    pp.append((f'{sid}_study', sfn))\n",
        "for mid, mfn in zip(image_id, image_id_file):\n",
        "    pp.append((f'{mid}_image', mfn))\n",
        "\n",
        "s = pd.read_csv(\"/kaggle/input/siim-covid19-detection/sample_submission.csv\")\n",
        "ids = s.id.values.tolist()\n",
        "assert set(ids)==set([p[0] for p in pp]), \"id miss\""
      ],
      "id": "motivated-norfolk",
      "execution_count": null,
      "outputs": []
    },
    {
      "cell_type": "code",
      "metadata": {
        "execution": {
          "iopub.execute_input": "2021-05-20T12:08:08.220648Z",
          "iopub.status.busy": "2021-05-20T12:08:08.219958Z",
          "iopub.status.idle": "2021-05-20T12:13:38.408412Z",
          "shell.execute_reply": "2021-05-20T12:13:38.407957Z"
        },
        "papermill": {
          "duration": 331.731697,
          "end_time": "2021-05-20T12:13:38.408541",
          "exception": false,
          "start_time": "2021-05-20T12:08:06.676844",
          "status": "completed"
        },
        "tags": [],
        "id": "sized-semester",
        "outputId": "3f5d382f-e702-485a-9345-904c5e55abc9"
      },
      "source": [
        "result_id = []\n",
        "result_pred = []\n",
        "chache_file = {}\n",
        "for id, fn in tqdm(pp):\n",
        "    img = None\n",
        "    if fn in chache_file:\n",
        "        dst = chache_file[fn]\n",
        "    else:\n",
        "        try:\n",
        "            img, org_siz = dcm_to_pil(fn)\n",
        "        except:\n",
        "            dst = \"negative 1 0 0 1 1\"\n",
        "    \n",
        "    if img is not None:\n",
        "        img = np.array(img.convert(\"RGB\"))\n",
        "        img = torch.from_numpy(img.transpose(2, 0, 1)).float().div(255.0).unsqueeze(0)\n",
        "        output = model(img.to(device))\n",
        "        boxes = post_processing(img, conf_thresh, nms_thresh, output)\n",
        "        detect = [b for b in boxes[0] if b[6] < 4]\n",
        "        if len(detect) == 0:\n",
        "            dst = \"negative 1 0 0 1 1\"\n",
        "        else:\n",
        "            # Now, only One Result to Use\n",
        "            detect = sorted(detect, key=lambda x:x[5])[-1]\n",
        "            x1 = min(max(0,int(detect[0] * org_siz[0])), org_siz[0]-1)\n",
        "            y1 = min(max(0,int(detect[1] * org_siz[1])), org_siz[1]-1)\n",
        "            x2 = min(max(1,int(detect[2] * org_siz[0])), org_siz[0])\n",
        "            y2 = min(max(1,int(detect[3] * org_siz[1])), org_siz[1])\n",
        "            dst = f\"{pred_name[detect[6]]} {detect[5]} {x1} {y1} {x2} {y2}\"\n",
        "        chache_file[fn] = dst\n",
        "\n",
        "    result_id.append(id)\n",
        "    result_pred.append(dst)"
      ],
      "id": "sized-semester",
      "execution_count": null,
      "outputs": [
        {
          "output_type": "stream",
          "text": [
            "100%|██████████| 2477/2477 [05:30<00:00,  7.50it/s] \n"
          ],
          "name": "stderr"
        }
      ]
    },
    {
      "cell_type": "code",
      "metadata": {
        "execution": {
          "iopub.execute_input": "2021-05-20T12:13:42.282581Z",
          "iopub.status.busy": "2021-05-20T12:13:42.281630Z",
          "iopub.status.idle": "2021-05-20T12:13:42.608003Z",
          "shell.execute_reply": "2021-05-20T12:13:42.607494Z"
        },
        "papermill": {
          "duration": 2.35652,
          "end_time": "2021-05-20T12:13:42.608136",
          "exception": false,
          "start_time": "2021-05-20T12:13:40.251616",
          "status": "completed"
        },
        "tags": [],
        "id": "alone-protest"
      },
      "source": [
        "os.chdir('/kaggle/working')\n",
        "pd.DataFrame({\"id\":result_id,\"PredictionString\":result_pred}).to_csv(\"submission.csv\", index=False)"
      ],
      "id": "alone-protest",
      "execution_count": null,
      "outputs": []
    },
    {
      "cell_type": "code",
      "metadata": {
        "execution": {
          "iopub.execute_input": "2021-05-20T12:13:46.269984Z",
          "iopub.status.busy": "2021-05-20T12:13:46.247629Z",
          "iopub.status.idle": "2021-05-20T12:13:46.993653Z",
          "shell.execute_reply": "2021-05-20T12:13:46.994131Z"
        },
        "papermill": {
          "duration": 2.606221,
          "end_time": "2021-05-20T12:13:46.994314",
          "exception": false,
          "start_time": "2021-05-20T12:13:44.388093",
          "status": "completed"
        },
        "tags": [],
        "id": "middle-compression",
        "outputId": "0d60c941-7b3d-4bad-cffc-446225ef1287"
      },
      "source": [
        "!head submission.csv"
      ],
      "id": "middle-compression",
      "execution_count": null,
      "outputs": [
        {
          "output_type": "stream",
          "text": [
            "id,PredictionString\r\n",
            "2fb11712bc93_study,negative 1 0 0 1 1\r\n",
            "19c66935e737_study,negative 1 0 0 1 1\r\n",
            "2fc50bf199cd_study,negative 1 0 0 1 1\r\n",
            "97c5d6eb413d_study,negative 1 0 0 1 1\r\n",
            "593c3f815635_study,negative 1 0 0 1 1\r\n",
            "f85b5d51e41d_study,negative 1 0 0 1 1\r\n",
            "466f38a39d33_study,negative 1 0 0 1 1\r\n",
            "2767827cedc2_study,negative 1 0 0 1 1\r\n",
            "c85581436d7c_study,negative 1 0 0 1 1\r\n"
          ],
          "name": "stdout"
        }
      ]
    },
    {
      "cell_type": "code",
      "metadata": {
        "execution": {
          "iopub.execute_input": "2021-05-20T12:13:51.019030Z",
          "iopub.status.busy": "2021-05-20T12:13:50.996409Z",
          "iopub.status.idle": "2021-05-20T12:13:51.826147Z",
          "shell.execute_reply": "2021-05-20T12:13:51.824862Z"
        },
        "papermill": {
          "duration": 2.978248,
          "end_time": "2021-05-20T12:13:51.826337",
          "exception": false,
          "start_time": "2021-05-20T12:13:48.848089",
          "status": "completed"
        },
        "tags": [],
        "id": "hearing-framework"
      },
      "source": [
        "!rm -rf yolov4"
      ],
      "id": "hearing-framework",
      "execution_count": null,
      "outputs": []
    }
  ]
}